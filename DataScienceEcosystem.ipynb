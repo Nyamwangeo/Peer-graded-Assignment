{
 "cells": [
  {
   "cell_type": "markdown",
   "id": "279e8a2c-5a93-464c-8936-82ddbe297c75",
   "metadata": {},
   "source": [
    "# Data Science Tools and Ecosystem"
   ]
  },
  {
   "cell_type": "markdown",
   "id": "cb5b8020-d440-48cf-9cf0-d1bf7e8214e0",
   "metadata": {},
   "source": [
    "In this notebook, Data Science Tools and Ecosystem are summarized.\n",
    "**Objectives**\n",
    "-> study popular data science languages\n",
    "-> list data science tools\n",
    "-> do arithmetic calculations"
   ]
  },
  {
   "cell_type": "markdown",
   "id": "5faeb773-c0c7-48b4-994c-e662e64479c0",
   "metadata": {},
   "source": [
    "Some of the popular languages that Data Scientists use are:\n",
    "1. Python\n",
    "2. Java\n",
    "3. R"
   ]
  },
  {
   "cell_type": "markdown",
   "id": "e526b512-5d46-4bd5-ad55-4db2611f3a39",
   "metadata": {},
   "source": [
    "Some of the commonly used libraries used by Data Scientists include:\n",
    "1. Pandas\n",
    "2. Numpy\n",
    "3. Matplotlib\n",
    "4. Seaborn"
   ]
  },
  {
   "cell_type": "markdown",
   "id": "9fe97bc5-c18f-41b2-bfaf-c200aea2a4cb",
   "metadata": {},
   "source": [
    "Data Science Tools\n",
    "RStudio\n",
    "Apache Zeppelin\n",
    "Jupyter Notebooks"
   ]
  },
  {
   "cell_type": "markdown",
   "id": "34a691ae-da49-4fb4-b258-3889038eeb6f",
   "metadata": {},
   "source": [
    "### Below are a few examples of evaluating arithmetic expressions in Python"
   ]
  },
  {
   "cell_type": "code",
   "execution_count": 4,
   "id": "c3f36b61-55be-420a-b80e-b6bd65a1a89e",
   "metadata": {},
   "outputs": [
    {
     "name": "stdout",
     "output_type": "stream",
     "text": [
      "17\n"
     ]
    }
   ],
   "source": [
    "#This a simple arithmetic expression to mutiply then add integers\n",
    "a = (3*4)+5\n",
    "print(a)"
   ]
  },
  {
   "cell_type": "code",
   "execution_count": 6,
   "id": "fa5ad0d5-c0ee-476e-b745-867127f97188",
   "metadata": {},
   "outputs": [
    {
     "name": "stdout",
     "output_type": "stream",
     "text": [
      "3.3333333333333335\n"
     ]
    }
   ],
   "source": [
    "#This will convert 200 minutes to hours by diving by 60\n",
    "c = 200/60\n",
    "print(c)"
   ]
  },
  {
   "cell_type": "markdown",
   "id": "65ca9f70-5ad3-4eb1-854b-29b34adbebcd",
   "metadata": {},
   "source": [
    "## Author\n",
    "Paul Nyamwange Ombuna"
   ]
  },
  {
   "cell_type": "code",
   "execution_count": null,
   "id": "5c48da4d-0b02-4e37-b1cc-baa00f2947b5",
   "metadata": {},
   "outputs": [],
   "source": []
  }
 ],
 "metadata": {
  "kernelspec": {
   "display_name": "anaconda-panel-2023.05-py310",
   "language": "python",
   "name": "conda-env-anaconda-panel-2023.05-py310-py"
  },
  "language_info": {
   "codemirror_mode": {
    "name": "ipython",
    "version": 3
   },
   "file_extension": ".py",
   "mimetype": "text/x-python",
   "name": "python",
   "nbconvert_exporter": "python",
   "pygments_lexer": "ipython3",
   "version": "3.11.5"
  }
 },
 "nbformat": 4,
 "nbformat_minor": 5
}
